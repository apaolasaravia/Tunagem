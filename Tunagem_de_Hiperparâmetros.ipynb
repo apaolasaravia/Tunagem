{
  "nbformat": 4,
  "nbformat_minor": 0,
  "metadata": {
    "colab": {
      "provenance": []
    },
    "kernelspec": {
      "name": "python3",
      "display_name": "Python 3"
    },
    "language_info": {
      "name": "python"
    }
  },
  "cells": [
    {
      "cell_type": "markdown",
      "source": [
        "# **Tunagem de hiperparâmetros:**\n",
        "\n",
        "Conjunto de dados: Custos médicos com plano de saúde \n",
        "https://www.kaggle.com/datasets/mirichoi0218/insurance"
      ],
      "metadata": {
        "id": "LDAJPPQ2Hgzl"
      }
    },
    {
      "cell_type": "markdown",
      "source": [
        "**1) Importação e preparo dos dados:**"
      ],
      "metadata": {
        "id": "4gVCGhDUHorG"
      }
    },
    {
      "cell_type": "code",
      "source": [
        "import pandas as pd\n",
        "url = 'https://raw.githubusercontent.com/gitflai/DDS/main/Datasets/insurance.csv'\n",
        "dados=pd.read_csv(url)\n",
        "\n",
        "dados.head()"
      ],
      "metadata": {
        "colab": {
          "base_uri": "https://localhost:8080/",
          "height": 206
        },
        "id": "69hoIUcsHumP",
        "outputId": "8ce86ef2-4baa-4915-fd6c-c1b3d6a3fefc"
      },
      "execution_count": 1,
      "outputs": [
        {
          "output_type": "execute_result",
          "data": {
            "text/plain": [
              "   age     sex     bmi  children smoker     region      charges\n",
              "0   19  female  27.900         0    yes  southwest  16884.92400\n",
              "1   18    male  33.770         1     no  southeast   1725.55230\n",
              "2   28    male  33.000         3     no  southeast   4449.46200\n",
              "3   33    male  22.705         0     no  northwest  21984.47061\n",
              "4   32    male  28.880         0     no  northwest   3866.85520"
            ],
            "text/html": [
              "\n",
              "  <div id=\"df-7cb605be-1d2e-4869-9954-fb22cc84e543\">\n",
              "    <div class=\"colab-df-container\">\n",
              "      <div>\n",
              "<style scoped>\n",
              "    .dataframe tbody tr th:only-of-type {\n",
              "        vertical-align: middle;\n",
              "    }\n",
              "\n",
              "    .dataframe tbody tr th {\n",
              "        vertical-align: top;\n",
              "    }\n",
              "\n",
              "    .dataframe thead th {\n",
              "        text-align: right;\n",
              "    }\n",
              "</style>\n",
              "<table border=\"1\" class=\"dataframe\">\n",
              "  <thead>\n",
              "    <tr style=\"text-align: right;\">\n",
              "      <th></th>\n",
              "      <th>age</th>\n",
              "      <th>sex</th>\n",
              "      <th>bmi</th>\n",
              "      <th>children</th>\n",
              "      <th>smoker</th>\n",
              "      <th>region</th>\n",
              "      <th>charges</th>\n",
              "    </tr>\n",
              "  </thead>\n",
              "  <tbody>\n",
              "    <tr>\n",
              "      <th>0</th>\n",
              "      <td>19</td>\n",
              "      <td>female</td>\n",
              "      <td>27.900</td>\n",
              "      <td>0</td>\n",
              "      <td>yes</td>\n",
              "      <td>southwest</td>\n",
              "      <td>16884.92400</td>\n",
              "    </tr>\n",
              "    <tr>\n",
              "      <th>1</th>\n",
              "      <td>18</td>\n",
              "      <td>male</td>\n",
              "      <td>33.770</td>\n",
              "      <td>1</td>\n",
              "      <td>no</td>\n",
              "      <td>southeast</td>\n",
              "      <td>1725.55230</td>\n",
              "    </tr>\n",
              "    <tr>\n",
              "      <th>2</th>\n",
              "      <td>28</td>\n",
              "      <td>male</td>\n",
              "      <td>33.000</td>\n",
              "      <td>3</td>\n",
              "      <td>no</td>\n",
              "      <td>southeast</td>\n",
              "      <td>4449.46200</td>\n",
              "    </tr>\n",
              "    <tr>\n",
              "      <th>3</th>\n",
              "      <td>33</td>\n",
              "      <td>male</td>\n",
              "      <td>22.705</td>\n",
              "      <td>0</td>\n",
              "      <td>no</td>\n",
              "      <td>northwest</td>\n",
              "      <td>21984.47061</td>\n",
              "    </tr>\n",
              "    <tr>\n",
              "      <th>4</th>\n",
              "      <td>32</td>\n",
              "      <td>male</td>\n",
              "      <td>28.880</td>\n",
              "      <td>0</td>\n",
              "      <td>no</td>\n",
              "      <td>northwest</td>\n",
              "      <td>3866.85520</td>\n",
              "    </tr>\n",
              "  </tbody>\n",
              "</table>\n",
              "</div>\n",
              "      <button class=\"colab-df-convert\" onclick=\"convertToInteractive('df-7cb605be-1d2e-4869-9954-fb22cc84e543')\"\n",
              "              title=\"Convert this dataframe to an interactive table.\"\n",
              "              style=\"display:none;\">\n",
              "        \n",
              "  <svg xmlns=\"http://www.w3.org/2000/svg\" height=\"24px\"viewBox=\"0 0 24 24\"\n",
              "       width=\"24px\">\n",
              "    <path d=\"M0 0h24v24H0V0z\" fill=\"none\"/>\n",
              "    <path d=\"M18.56 5.44l.94 2.06.94-2.06 2.06-.94-2.06-.94-.94-2.06-.94 2.06-2.06.94zm-11 1L8.5 8.5l.94-2.06 2.06-.94-2.06-.94L8.5 2.5l-.94 2.06-2.06.94zm10 10l.94 2.06.94-2.06 2.06-.94-2.06-.94-.94-2.06-.94 2.06-2.06.94z\"/><path d=\"M17.41 7.96l-1.37-1.37c-.4-.4-.92-.59-1.43-.59-.52 0-1.04.2-1.43.59L10.3 9.45l-7.72 7.72c-.78.78-.78 2.05 0 2.83L4 21.41c.39.39.9.59 1.41.59.51 0 1.02-.2 1.41-.59l7.78-7.78 2.81-2.81c.8-.78.8-2.07 0-2.86zM5.41 20L4 18.59l7.72-7.72 1.47 1.35L5.41 20z\"/>\n",
              "  </svg>\n",
              "      </button>\n",
              "      \n",
              "  <style>\n",
              "    .colab-df-container {\n",
              "      display:flex;\n",
              "      flex-wrap:wrap;\n",
              "      gap: 12px;\n",
              "    }\n",
              "\n",
              "    .colab-df-convert {\n",
              "      background-color: #E8F0FE;\n",
              "      border: none;\n",
              "      border-radius: 50%;\n",
              "      cursor: pointer;\n",
              "      display: none;\n",
              "      fill: #1967D2;\n",
              "      height: 32px;\n",
              "      padding: 0 0 0 0;\n",
              "      width: 32px;\n",
              "    }\n",
              "\n",
              "    .colab-df-convert:hover {\n",
              "      background-color: #E2EBFA;\n",
              "      box-shadow: 0px 1px 2px rgba(60, 64, 67, 0.3), 0px 1px 3px 1px rgba(60, 64, 67, 0.15);\n",
              "      fill: #174EA6;\n",
              "    }\n",
              "\n",
              "    [theme=dark] .colab-df-convert {\n",
              "      background-color: #3B4455;\n",
              "      fill: #D2E3FC;\n",
              "    }\n",
              "\n",
              "    [theme=dark] .colab-df-convert:hover {\n",
              "      background-color: #434B5C;\n",
              "      box-shadow: 0px 1px 3px 1px rgba(0, 0, 0, 0.15);\n",
              "      filter: drop-shadow(0px 1px 2px rgba(0, 0, 0, 0.3));\n",
              "      fill: #FFFFFF;\n",
              "    }\n",
              "  </style>\n",
              "\n",
              "      <script>\n",
              "        const buttonEl =\n",
              "          document.querySelector('#df-7cb605be-1d2e-4869-9954-fb22cc84e543 button.colab-df-convert');\n",
              "        buttonEl.style.display =\n",
              "          google.colab.kernel.accessAllowed ? 'block' : 'none';\n",
              "\n",
              "        async function convertToInteractive(key) {\n",
              "          const element = document.querySelector('#df-7cb605be-1d2e-4869-9954-fb22cc84e543');\n",
              "          const dataTable =\n",
              "            await google.colab.kernel.invokeFunction('convertToInteractive',\n",
              "                                                     [key], {});\n",
              "          if (!dataTable) return;\n",
              "\n",
              "          const docLinkHtml = 'Like what you see? Visit the ' +\n",
              "            '<a target=\"_blank\" href=https://colab.research.google.com/notebooks/data_table.ipynb>data table notebook</a>'\n",
              "            + ' to learn more about interactive tables.';\n",
              "          element.innerHTML = '';\n",
              "          dataTable['output_type'] = 'display_data';\n",
              "          await google.colab.output.renderOutput(dataTable, element);\n",
              "          const docLink = document.createElement('div');\n",
              "          docLink.innerHTML = docLinkHtml;\n",
              "          element.appendChild(docLink);\n",
              "        }\n",
              "      </script>\n",
              "    </div>\n",
              "  </div>\n",
              "  "
            ]
          },
          "metadata": {},
          "execution_count": 1
        }
      ]
    },
    {
      "cell_type": "code",
      "execution_count": 2,
      "metadata": {
        "colab": {
          "base_uri": "https://localhost:8080/",
          "height": 250
        },
        "id": "Wv74m5ANGIiK",
        "outputId": "5dc950f6-c127-4a09-e92b-f75e33807950"
      },
      "outputs": [
        {
          "output_type": "execute_result",
          "data": {
            "text/plain": [
              "        age       bmi  smoker   charges  sex_male  children_1  children_2  \\\n",
              "0  0.296875  0.525127       1  0.264777         0           0           0   \n",
              "1  0.281250  0.635611       0  0.027059         1           1           0   \n",
              "2  0.437500  0.621118       0  0.069773         1           0           0   \n",
              "3  0.515625  0.427348       0  0.344744         1           0           0   \n",
              "4  0.500000  0.543572       0  0.060637         1           0           0   \n",
              "\n",
              "   children_3  children_4  children_5  region_northwest  region_southeast  \\\n",
              "0           0           0           0                 0                 0   \n",
              "1           0           0           0                 0                 1   \n",
              "2           1           0           0                 0                 1   \n",
              "3           0           0           0                 1                 0   \n",
              "4           0           0           0                 1                 0   \n",
              "\n",
              "   region_southwest  \n",
              "0                 1  \n",
              "1                 0  \n",
              "2                 0  \n",
              "3                 0  \n",
              "4                 0  "
            ],
            "text/html": [
              "\n",
              "  <div id=\"df-2ae74d68-f1cc-43a7-8dc7-5c4e90875732\">\n",
              "    <div class=\"colab-df-container\">\n",
              "      <div>\n",
              "<style scoped>\n",
              "    .dataframe tbody tr th:only-of-type {\n",
              "        vertical-align: middle;\n",
              "    }\n",
              "\n",
              "    .dataframe tbody tr th {\n",
              "        vertical-align: top;\n",
              "    }\n",
              "\n",
              "    .dataframe thead th {\n",
              "        text-align: right;\n",
              "    }\n",
              "</style>\n",
              "<table border=\"1\" class=\"dataframe\">\n",
              "  <thead>\n",
              "    <tr style=\"text-align: right;\">\n",
              "      <th></th>\n",
              "      <th>age</th>\n",
              "      <th>bmi</th>\n",
              "      <th>smoker</th>\n",
              "      <th>charges</th>\n",
              "      <th>sex_male</th>\n",
              "      <th>children_1</th>\n",
              "      <th>children_2</th>\n",
              "      <th>children_3</th>\n",
              "      <th>children_4</th>\n",
              "      <th>children_5</th>\n",
              "      <th>region_northwest</th>\n",
              "      <th>region_southeast</th>\n",
              "      <th>region_southwest</th>\n",
              "    </tr>\n",
              "  </thead>\n",
              "  <tbody>\n",
              "    <tr>\n",
              "      <th>0</th>\n",
              "      <td>0.296875</td>\n",
              "      <td>0.525127</td>\n",
              "      <td>1</td>\n",
              "      <td>0.264777</td>\n",
              "      <td>0</td>\n",
              "      <td>0</td>\n",
              "      <td>0</td>\n",
              "      <td>0</td>\n",
              "      <td>0</td>\n",
              "      <td>0</td>\n",
              "      <td>0</td>\n",
              "      <td>0</td>\n",
              "      <td>1</td>\n",
              "    </tr>\n",
              "    <tr>\n",
              "      <th>1</th>\n",
              "      <td>0.281250</td>\n",
              "      <td>0.635611</td>\n",
              "      <td>0</td>\n",
              "      <td>0.027059</td>\n",
              "      <td>1</td>\n",
              "      <td>1</td>\n",
              "      <td>0</td>\n",
              "      <td>0</td>\n",
              "      <td>0</td>\n",
              "      <td>0</td>\n",
              "      <td>0</td>\n",
              "      <td>1</td>\n",
              "      <td>0</td>\n",
              "    </tr>\n",
              "    <tr>\n",
              "      <th>2</th>\n",
              "      <td>0.437500</td>\n",
              "      <td>0.621118</td>\n",
              "      <td>0</td>\n",
              "      <td>0.069773</td>\n",
              "      <td>1</td>\n",
              "      <td>0</td>\n",
              "      <td>0</td>\n",
              "      <td>1</td>\n",
              "      <td>0</td>\n",
              "      <td>0</td>\n",
              "      <td>0</td>\n",
              "      <td>1</td>\n",
              "      <td>0</td>\n",
              "    </tr>\n",
              "    <tr>\n",
              "      <th>3</th>\n",
              "      <td>0.515625</td>\n",
              "      <td>0.427348</td>\n",
              "      <td>0</td>\n",
              "      <td>0.344744</td>\n",
              "      <td>1</td>\n",
              "      <td>0</td>\n",
              "      <td>0</td>\n",
              "      <td>0</td>\n",
              "      <td>0</td>\n",
              "      <td>0</td>\n",
              "      <td>1</td>\n",
              "      <td>0</td>\n",
              "      <td>0</td>\n",
              "    </tr>\n",
              "    <tr>\n",
              "      <th>4</th>\n",
              "      <td>0.500000</td>\n",
              "      <td>0.543572</td>\n",
              "      <td>0</td>\n",
              "      <td>0.060637</td>\n",
              "      <td>1</td>\n",
              "      <td>0</td>\n",
              "      <td>0</td>\n",
              "      <td>0</td>\n",
              "      <td>0</td>\n",
              "      <td>0</td>\n",
              "      <td>1</td>\n",
              "      <td>0</td>\n",
              "      <td>0</td>\n",
              "    </tr>\n",
              "  </tbody>\n",
              "</table>\n",
              "</div>\n",
              "      <button class=\"colab-df-convert\" onclick=\"convertToInteractive('df-2ae74d68-f1cc-43a7-8dc7-5c4e90875732')\"\n",
              "              title=\"Convert this dataframe to an interactive table.\"\n",
              "              style=\"display:none;\">\n",
              "        \n",
              "  <svg xmlns=\"http://www.w3.org/2000/svg\" height=\"24px\"viewBox=\"0 0 24 24\"\n",
              "       width=\"24px\">\n",
              "    <path d=\"M0 0h24v24H0V0z\" fill=\"none\"/>\n",
              "    <path d=\"M18.56 5.44l.94 2.06.94-2.06 2.06-.94-2.06-.94-.94-2.06-.94 2.06-2.06.94zm-11 1L8.5 8.5l.94-2.06 2.06-.94-2.06-.94L8.5 2.5l-.94 2.06-2.06.94zm10 10l.94 2.06.94-2.06 2.06-.94-2.06-.94-.94-2.06-.94 2.06-2.06.94z\"/><path d=\"M17.41 7.96l-1.37-1.37c-.4-.4-.92-.59-1.43-.59-.52 0-1.04.2-1.43.59L10.3 9.45l-7.72 7.72c-.78.78-.78 2.05 0 2.83L4 21.41c.39.39.9.59 1.41.59.51 0 1.02-.2 1.41-.59l7.78-7.78 2.81-2.81c.8-.78.8-2.07 0-2.86zM5.41 20L4 18.59l7.72-7.72 1.47 1.35L5.41 20z\"/>\n",
              "  </svg>\n",
              "      </button>\n",
              "      \n",
              "  <style>\n",
              "    .colab-df-container {\n",
              "      display:flex;\n",
              "      flex-wrap:wrap;\n",
              "      gap: 12px;\n",
              "    }\n",
              "\n",
              "    .colab-df-convert {\n",
              "      background-color: #E8F0FE;\n",
              "      border: none;\n",
              "      border-radius: 50%;\n",
              "      cursor: pointer;\n",
              "      display: none;\n",
              "      fill: #1967D2;\n",
              "      height: 32px;\n",
              "      padding: 0 0 0 0;\n",
              "      width: 32px;\n",
              "    }\n",
              "\n",
              "    .colab-df-convert:hover {\n",
              "      background-color: #E2EBFA;\n",
              "      box-shadow: 0px 1px 2px rgba(60, 64, 67, 0.3), 0px 1px 3px 1px rgba(60, 64, 67, 0.15);\n",
              "      fill: #174EA6;\n",
              "    }\n",
              "\n",
              "    [theme=dark] .colab-df-convert {\n",
              "      background-color: #3B4455;\n",
              "      fill: #D2E3FC;\n",
              "    }\n",
              "\n",
              "    [theme=dark] .colab-df-convert:hover {\n",
              "      background-color: #434B5C;\n",
              "      box-shadow: 0px 1px 3px 1px rgba(0, 0, 0, 0.15);\n",
              "      filter: drop-shadow(0px 1px 2px rgba(0, 0, 0, 0.3));\n",
              "      fill: #FFFFFF;\n",
              "    }\n",
              "  </style>\n",
              "\n",
              "      <script>\n",
              "        const buttonEl =\n",
              "          document.querySelector('#df-2ae74d68-f1cc-43a7-8dc7-5c4e90875732 button.colab-df-convert');\n",
              "        buttonEl.style.display =\n",
              "          google.colab.kernel.accessAllowed ? 'block' : 'none';\n",
              "\n",
              "        async function convertToInteractive(key) {\n",
              "          const element = document.querySelector('#df-2ae74d68-f1cc-43a7-8dc7-5c4e90875732');\n",
              "          const dataTable =\n",
              "            await google.colab.kernel.invokeFunction('convertToInteractive',\n",
              "                                                     [key], {});\n",
              "          if (!dataTable) return;\n",
              "\n",
              "          const docLinkHtml = 'Like what you see? Visit the ' +\n",
              "            '<a target=\"_blank\" href=https://colab.research.google.com/notebooks/data_table.ipynb>data table notebook</a>'\n",
              "            + ' to learn more about interactive tables.';\n",
              "          element.innerHTML = '';\n",
              "          dataTable['output_type'] = 'display_data';\n",
              "          await google.colab.output.renderOutput(dataTable, element);\n",
              "          const docLink = document.createElement('div');\n",
              "          docLink.innerHTML = docLinkHtml;\n",
              "          element.appendChild(docLink);\n",
              "        }\n",
              "      </script>\n",
              "    </div>\n",
              "  </div>\n",
              "  "
            ]
          },
          "metadata": {},
          "execution_count": 2
        }
      ],
      "source": [
        "#Pré-processamento dos dados: normalização das variáveis\n",
        "\n",
        "dados['smoker'] = dados['smoker'].map({'yes': 1, 'no':0})\n",
        "dados['charges']=dados['charges']/max(dados['charges'])\n",
        "dados['age']=dados['age']/max(dados['age'])\n",
        "dados['bmi']=dados['bmi']/max(dados['bmi'])\n",
        "dados = pd.get_dummies(dados, columns = ['sex', 'children','region'], drop_first = True)\n",
        "dados.head()\n",
        "\n"
      ]
    },
    {
      "cell_type": "code",
      "source": [
        "x=dados.drop('smoker', axis = 1)\n",
        "y=dados['smoker']"
      ],
      "metadata": {
        "id": "LHbHcKiiwSII"
      },
      "execution_count": 3,
      "outputs": []
    },
    {
      "cell_type": "markdown",
      "source": [
        "**2) Aplicando a Tunagem para o modelo KNN:**"
      ],
      "metadata": {
        "id": "YiLZbc3IBwoV"
      }
    },
    {
      "cell_type": "code",
      "source": [
        "#Fazendo a tunagem para o modelo KNN:\n",
        "\n",
        "import numpy as np\n",
        "\n",
        "from sklearn.tree import DecisionTreeClassifier\n",
        "from sklearn.neighbors import KNeighborsClassifier\n",
        "from sklearn.ensemble import RandomForestClassifier\n",
        "\n",
        "from sklearn.model_selection import cross_validate\n",
        "from sklearn.model_selection import RepeatedStratifiedKFold\n",
        "validacao = RepeatedStratifiedKFold(n_splits = 10, n_repeats = 3)\n",
        "\n",
        "from sklearn.model_selection import GridSearchCV\n",
        "from sklearn.model_selection import RandomizedSearchCV"
      ],
      "metadata": {
        "id": "iAuvrpSkxSYL"
      },
      "execution_count": 4,
      "outputs": []
    },
    {
      "cell_type": "code",
      "source": [
        "np.arange(1, 50, 2)"
      ],
      "metadata": {
        "colab": {
          "base_uri": "https://localhost:8080/"
        },
        "id": "Z3v97AgayOuW",
        "outputId": "ae029dbf-5cef-4b8b-ab69-49a36e584355"
      },
      "execution_count": 5,
      "outputs": [
        {
          "output_type": "execute_result",
          "data": {
            "text/plain": [
              "array([ 1,  3,  5,  7,  9, 11, 13, 15, 17, 19, 21, 23, 25, 27, 29, 31, 33,\n",
              "       35, 37, 39, 41, 43, 45, 47, 49])"
            ]
          },
          "metadata": {},
          "execution_count": 5
        }
      ]
    },
    {
      "cell_type": "markdown",
      "source": [
        "**2.1)Aplicando o Grid:** \n",
        "\n",
        "O Grid consiste na aplicação do modelo para todo o conjunto de dados que foi pré-determinado. Para o KNN serão 750 fits:"
      ],
      "metadata": {
        "id": "1M49xO6RB5W1"
      }
    },
    {
      "cell_type": "code",
      "source": [
        "#Fazendo a tunagem com o Grid para o modelo KNN:\n",
        "\n",
        "modelo = KNeighborsClassifier()\n",
        "\n",
        "parametros = {'n_neighbors' : np.arange (1, 50, 2)}\n",
        "\n",
        "grid_search = GridSearchCV(modelo, param_grid = parametros,\n",
        "                                   scoring = 'accuracy',\n",
        "                                   cv = validacao,\n",
        "                                   verbose = 1,\n",
        "                                   n_jobs = -1)    \n",
        "\n",
        "grid_search.fit(x,y)"
      ],
      "metadata": {
        "colab": {
          "base_uri": "https://localhost:8080/"
        },
        "id": "jHwPfuSkykCP",
        "outputId": "a1b0d10c-d1d8-4a7c-8614-5b0fc2e43e38"
      },
      "execution_count": 6,
      "outputs": [
        {
          "output_type": "stream",
          "name": "stdout",
          "text": [
            "Fitting 30 folds for each of 25 candidates, totalling 750 fits\n"
          ]
        },
        {
          "output_type": "execute_result",
          "data": {
            "text/plain": [
              "GridSearchCV(cv=RepeatedStratifiedKFold(n_repeats=3, n_splits=10, random_state=None),\n",
              "             estimator=KNeighborsClassifier(), n_jobs=-1,\n",
              "             param_grid={'n_neighbors': array([ 1,  3,  5,  7,  9, 11, 13, 15, 17, 19, 21, 23, 25, 27, 29, 31, 33,\n",
              "       35, 37, 39, 41, 43, 45, 47, 49])},\n",
              "             scoring='accuracy', verbose=1)"
            ]
          },
          "metadata": {},
          "execution_count": 6
        }
      ]
    },
    {
      "cell_type": "code",
      "source": [
        "grid_search.best_score_"
      ],
      "metadata": {
        "colab": {
          "base_uri": "https://localhost:8080/"
        },
        "id": "Ai04u5-Mzfr8",
        "outputId": "dd7d6568-8cab-41db-b976-8b481ec56fcf"
      },
      "execution_count": 7,
      "outputs": [
        {
          "output_type": "execute_result",
          "data": {
            "text/plain": [
              "0.9309916582501027"
            ]
          },
          "metadata": {},
          "execution_count": 7
        }
      ]
    },
    {
      "cell_type": "code",
      "source": [
        "grid_search.cv_results_['mean_test_score']"
      ],
      "metadata": {
        "colab": {
          "base_uri": "https://localhost:8080/"
        },
        "id": "K0qesJxdztWm",
        "outputId": "3fef76ba-976b-4338-9663-e85831c4a201"
      },
      "execution_count": 8,
      "outputs": [
        {
          "output_type": "execute_result",
          "data": {
            "text/plain": [
              "array([0.93099166, 0.90758052, 0.89336401, 0.88390192, 0.87468672,\n",
              "       0.87044851, 0.86595406, 0.86271836, 0.85125874, 0.84054165,\n",
              "       0.83481091, 0.8270845 , 0.82285565, 0.81788052, 0.81589047,\n",
              "       0.81439606, 0.81240414, 0.81041222, 0.8094172 , 0.80941907,\n",
              "       0.80917592, 0.80867841, 0.8079284 , 0.8079284 , 0.80942094])"
            ]
          },
          "metadata": {},
          "execution_count": 8
        }
      ]
    },
    {
      "cell_type": "code",
      "source": [
        "grid_search.best_params_"
      ],
      "metadata": {
        "colab": {
          "base_uri": "https://localhost:8080/"
        },
        "id": "2KS7mUfrzfpd",
        "outputId": "8b58f1ea-7967-4404-e839-e7bfdd6a64ee"
      },
      "execution_count": 9,
      "outputs": [
        {
          "output_type": "execute_result",
          "data": {
            "text/plain": [
              "{'n_neighbors': 1}"
            ]
          },
          "metadata": {},
          "execution_count": 9
        }
      ]
    },
    {
      "cell_type": "code",
      "source": [
        "import matplotlib.pyplot as plt\n",
        "plt.plot(np.arange(1,50,2), grid_search.cv_results_['mean_test_score']);"
      ],
      "metadata": {
        "colab": {
          "base_uri": "https://localhost:8080/",
          "height": 265
        },
        "id": "PtA_5-xi0EEs",
        "outputId": "b8d2b16c-18a4-4b5a-d209-be3b36729d30"
      },
      "execution_count": 10,
      "outputs": [
        {
          "output_type": "display_data",
          "data": {
            "text/plain": [
              "<Figure size 432x288 with 1 Axes>"
            ],
            "image/png": "[encoded data removed]"
          },
          "metadata": {
            "needs_background": "light"
          }
        }
      ]
    },
    {
      "cell_type": "markdown",
      "source": [
        "O melhor valor para a acurácia foi de 0.93 com K=1. O gráfico acima mostra como o valor da acurácia é influenciado pelo valor do K. Nota-se que há uma relação inversa do número de vizinhos com a acurácia, indicando que para este modelo, é desejável que se tenha o menor valor de K possível para melhores resultados do modelo."
      ],
      "metadata": {
        "id": "gArbo2vtDBg1"
      }
    },
    {
      "cell_type": "markdown",
      "source": [
        "**2.2) Aplicando o Random:** Neste caso, apenas uma amostra de todo o conjunto de dados será utilizada para fazer os cálculos dos melhores parâmetros. Não necessariamente o modelo Grid apresentará melhor resultado que o Random, como pode ser observado abaixo:"
      ],
      "metadata": {
        "id": "Kq6W21IoCAsj"
      }
    },
    {
      "cell_type": "code",
      "source": [
        "#Fazendo a tunagem com o Random:\n",
        "\n",
        "random_search = RandomizedSearchCV(modelo, param_distributions = parametros,\n",
        "                                   scoring = 'accuracy',\n",
        "                                   cv = validacao,\n",
        "                                   verbose = 1,\n",
        "                                   n_iter = 10,\n",
        "                                   n_jobs = -1)\n",
        "\n",
        "random_search.fit(x,y)"
      ],
      "metadata": {
        "colab": {
          "base_uri": "https://localhost:8080/"
        },
        "id": "-9QXatF00ECw",
        "outputId": "ba2093d1-99a2-4e55-cca4-c576331bf50d"
      },
      "execution_count": 11,
      "outputs": [
        {
          "output_type": "stream",
          "name": "stdout",
          "text": [
            "Fitting 30 folds for each of 10 candidates, totalling 300 fits\n"
          ]
        },
        {
          "output_type": "execute_result",
          "data": {
            "text/plain": [
              "RandomizedSearchCV(cv=RepeatedStratifiedKFold(n_repeats=3, n_splits=10, random_state=None),\n",
              "                   estimator=KNeighborsClassifier(), n_jobs=-1,\n",
              "                   param_distributions={'n_neighbors': array([ 1,  3,  5,  7,  9, 11, 13, 15, 17, 19, 21, 23, 25, 27, 29, 31, 33,\n",
              "       35, 37, 39, 41, 43, 45, 47, 49])},\n",
              "                   scoring='accuracy', verbose=1)"
            ]
          },
          "metadata": {},
          "execution_count": 11
        }
      ]
    },
    {
      "cell_type": "code",
      "source": [
        "random_search.cv_results_['mean_test_score']"
      ],
      "metadata": {
        "colab": {
          "base_uri": "https://localhost:8080/"
        },
        "id": "v1tVtJ1w1WtL",
        "outputId": "805214a4-741d-4b40-fd6e-1df41256b37f"
      },
      "execution_count": 13,
      "outputs": [
        {
          "output_type": "execute_result",
          "data": {
            "text/plain": [
              "array([0.86672652, 0.80817716, 0.88217372, 0.86075263, 0.8527756 ,\n",
              "       0.86922156, 0.8403116 , 0.80718026, 0.8089253 , 0.81939363])"
            ]
          },
          "metadata": {},
          "execution_count": 13
        }
      ]
    },
    {
      "cell_type": "code",
      "source": [
        "random_search.best_score_"
      ],
      "metadata": {
        "colab": {
          "base_uri": "https://localhost:8080/"
        },
        "id": "uLhx-XjJ1My7",
        "outputId": "03b45684-dc62-4b75-ce10-3f2d7937061f"
      },
      "execution_count": 14,
      "outputs": [
        {
          "output_type": "execute_result",
          "data": {
            "text/plain": [
              "0.8821737178767817"
            ]
          },
          "metadata": {},
          "execution_count": 14
        }
      ]
    },
    {
      "cell_type": "code",
      "source": [
        "random_search.best_params_"
      ],
      "metadata": {
        "colab": {
          "base_uri": "https://localhost:8080/"
        },
        "id": "9DzhNuVu1Uoo",
        "outputId": "82694f1b-bfdd-4467-92be-1581fe5f0744"
      },
      "execution_count": 15,
      "outputs": [
        {
          "output_type": "execute_result",
          "data": {
            "text/plain": [
              "{'n_neighbors': 7}"
            ]
          },
          "metadata": {},
          "execution_count": 15
        }
      ]
    },
    {
      "cell_type": "markdown",
      "source": [
        "Neste caso, o valor da acurácia foi de 0,88 e o K = 7. O número de fits foi de 300, o que resultou num tempo mais curto para rodar o modelo.\n",
        "\n",
        "Abaixo, tem-se a definição da função Tunagem:"
      ],
      "metadata": {
        "id": "OlpGyntlD-ER"
      }
    },
    {
      "cell_type": "code",
      "source": [
        "def Tunagem (modelo, treino, targets, parametros, tipo = 'grid', metrica = 'accuracy', n_iter = 20):\n",
        "\n",
        "    validacao = RepeatedStratifiedKFold(n_splits = 10, n_repeats = 3)\n",
        "\n",
        "    if tipo == 'grid':\n",
        "        search = GridSearchCV(modelo, param_grid=parametros, \n",
        "                              scoring = metrica, cv = validacao,\n",
        "                              verbose = 1, n_jobs = -1)\n",
        "        \n",
        "    elif tipo == 'random':\n",
        "        search = RandomizedSearchCV(modelo, param_distributions=parametros, \n",
        "                              scoring = metrica, cv = validacao,\n",
        "                              n_iter = n_iter, verbose = 1, n_jobs = -1)\n",
        "          \n",
        "    else: \n",
        "        print('Entrada inválida no argumento \"tipo\"')\n",
        "\n",
        "    search.fit(treino, targets)    \n",
        "\n",
        "    melhor = search.best_estimator_\n",
        "\n",
        "    print('\\nAcuracia: {:.4f}'.format(search.best_score_))\n",
        "    print('Melhores parâmetros: {}\\n'.format(search.best_params_))   \n",
        "\n",
        "    return melhor   "
      ],
      "metadata": {
        "id": "4zt0goGn2kgf"
      },
      "execution_count": 20,
      "outputs": []
    },
    {
      "cell_type": "markdown",
      "source": [
        "Abaixo, tem-se o modelo KNN, Random e 20 repetições, conforme definido anteriormente na função Tunagem:"
      ],
      "metadata": {
        "id": "JDFefn0rEbAh"
      }
    },
    {
      "cell_type": "code",
      "source": [
        "parametros = { 'n_neighbors': np.arange (1,50,2) }\n",
        "\n",
        "modelo = KNeighborsClassifier()\n",
        "\n",
        "knn = Tunagem(modelo, x, y, parametros, tipo = 'random')"
      ],
      "metadata": {
        "colab": {
          "base_uri": "https://localhost:8080/"
        },
        "id": "IjxspbXp45RF",
        "outputId": "80a5ab5d-413c-434e-dacd-0bc41b04503e"
      },
      "execution_count": 22,
      "outputs": [
        {
          "output_type": "stream",
          "name": "stdout",
          "text": [
            "Fitting 30 folds for each of 20 candidates, totalling 600 fits\n",
            "\n",
            "Acuracia: 0.9332\n",
            "Melhores parâmetros: {'n_neighbors': 1}\n",
            "\n"
          ]
        }
      ]
    },
    {
      "cell_type": "markdown",
      "source": [
        "A acurácia obtida foi de 0.9332 e K = 1. Houve uma melhora na acurácia ao se aumentar o n_iter de 10 para 20, utilizando-se o Random."
      ],
      "metadata": {
        "id": "ao7tSflrEmJx"
      }
    },
    {
      "cell_type": "code",
      "source": [
        "np.arange(2,21,2)"
      ],
      "metadata": {
        "colab": {
          "base_uri": "https://localhost:8080/"
        },
        "id": "0PFB5qj37ETg",
        "outputId": "400ae36b-6798-40e9-f920-eff7b4bc7a44"
      },
      "execution_count": 23,
      "outputs": [
        {
          "output_type": "execute_result",
          "data": {
            "text/plain": [
              "array([ 2,  4,  6,  8, 10, 12, 14, 16, 18, 20])"
            ]
          },
          "metadata": {},
          "execution_count": 23
        }
      ]
    },
    {
      "cell_type": "markdown",
      "source": [
        "**3) Árvore de Decisão:** Para este modelo, é importante definir alguns parâmetros, como n_iter."
      ],
      "metadata": {
        "id": "WBkC-bwKCMSG"
      }
    },
    {
      "cell_type": "code",
      "source": [
        "parametros = {\n",
        "              'max_depth': np.arange(1,11),\n",
        "              'min_samples_split':np.arange(2,21,2),\n",
        "              'min_samples_leaf':np.arange(1,11),\n",
        "                  }\n",
        "\n",
        "modelo = DecisionTreeClassifier()\n",
        "\n",
        "arvore = Tunagem(modelo, x, y, parametros, tipo = 'random', n_iter = 50)\n",
        "\n",
        "arvore"
      ],
      "metadata": {
        "colab": {
          "base_uri": "https://localhost:8080/"
        },
        "id": "aoRnxjVw7KLN",
        "outputId": "49597b97-6b5d-4f76-d06e-ea08612a9fd5"
      },
      "execution_count": 24,
      "outputs": [
        {
          "output_type": "stream",
          "name": "stdout",
          "text": [
            "Fitting 30 folds for each of 50 candidates, totalling 1500 fits\n",
            "\n",
            "Acuracia: 0.9661\n",
            "Melhores parâmetros: {'min_samples_split': 14, 'min_samples_leaf': 4, 'max_depth': 8}\n",
            "\n"
          ]
        },
        {
          "output_type": "execute_result",
          "data": {
            "text/plain": [
              "DecisionTreeClassifier(max_depth=8, min_samples_leaf=4, min_samples_split=14)"
            ]
          },
          "metadata": {},
          "execution_count": 24
        }
      ]
    },
    {
      "cell_type": "markdown",
      "source": [
        "Os resultados obtidos mostraram que a acurácia para o modelo de Árvore de Decisão foi de 0.9661, valor superior ao do KNN.\n",
        "Os parâmetros que levaram a este resultado foram:\n",
        "\n",
        "min_samples_split=14\n",
        "\n",
        "min_samples_leaf=4\n",
        "\n",
        "max_depth=8"
      ],
      "metadata": {
        "id": "Yqqf0xj5FBrw"
      }
    },
    {
      "cell_type": "markdown",
      "source": [
        "**4) Random Forest:**"
      ],
      "metadata": {
        "id": "kGRAbi9ECQZT"
      }
    },
    {
      "cell_type": "code",
      "source": [
        "parametros = {\n",
        "                'n_estimators': [50, 100, 150],\n",
        "                'max_features' : [2,3,4,5],\n",
        "                'bootstrap': [True, False],\n",
        "                'max_depth': [2,4,6,8,10],\n",
        "                'min_samples_split': [2,5,10],\n",
        "                'min_samples_leaf': [1,3,5]\n",
        "                }\n",
        "\n",
        "modelo = RandomForestClassifier()\n",
        "\n",
        "rf = Tunagem(modelo, x, y, parametros, tipo = 'random', n_iter = 5)\n",
        "rf"
      ],
      "metadata": {
        "colab": {
          "base_uri": "https://localhost:8080/"
        },
        "id": "FrEeZpYl8kSf",
        "outputId": "253fd00a-b46f-478d-a56f-a27bce8baa4f"
      },
      "execution_count": 26,
      "outputs": [
        {
          "output_type": "stream",
          "name": "stdout",
          "text": [
            "Fitting 30 folds for each of 5 candidates, totalling 150 fits\n",
            "\n",
            "Acuracia: 0.9611\n",
            "Melhores parâmetros: {'n_estimators': 100, 'min_samples_split': 5, 'min_samples_leaf': 3, 'max_features': 4, 'max_depth': 8, 'bootstrap': True}\n",
            "\n"
          ]
        },
        {
          "output_type": "execute_result",
          "data": {
            "text/plain": [
              "RandomForestClassifier(max_depth=8, max_features=4, min_samples_leaf=3,\n",
              "                       min_samples_split=5)"
            ]
          },
          "metadata": {},
          "execution_count": 26
        }
      ]
    },
    {
      "cell_type": "markdown",
      "source": [
        "O valor da acurácia obtida pela Random Forest foi de 0.9611, valor similar ao da Árvore de Decisão. \n",
        "Os parâmetros que levaram a este resultado foram:\n",
        "\n",
        "n_estimators': 100\n",
        "\n",
        "min_samples_split': 5\n",
        "\n",
        "min_samples_leaf': 3\n",
        "\n",
        "min_samples_leaf': 3\n",
        "\n",
        "min_samples_leaf': 3\n",
        "\n",
        "min_samples_leaf': 3\n",
        "\n",
        "Apesar da Random Forest ser um modelo mais robusto, não necessariamente irá ser obtido um valor melhor da acurácia. Neste caso, a utilização da Árvore de Decisão obteve um resultado satisfatório e utilizar a Random Forest não é interessante, mesmo porque para este modelo é necessário um maior tempo de processamento dos dados. Ademais, é necessário mais memória no computador, no caso de não rodar o modelo em nuvem."
      ],
      "metadata": {
        "id": "LLLwAUCiFmjB"
      }
    },
    {
      "cell_type": "markdown",
      "source": [
        "**5) Conclusão:**\n",
        "\n",
        "Foi avaliada a tunagem de parâmetros para os dados de Custos Médicos. Foram analisados os modelos KNN, Árvore de Decisão e Random Forest.\n",
        "Também foi analisada a diferença do Grid e do Random na tunagem, e o modelo Random conseguiu obter valores de acurácia satisfatórios. \n",
        "\n",
        "A vantagem de utilizar o Random é que o modelo roda em um tempo muito inferior ao Grid, por utilizar uma amostra e não todo o conjunto de variáveis estimadas. Além disso, não é necessário ter tanta memória para rodar o modelo (no caso de não se estar fazendo a modelagem em abiente em nuvem).\n",
        "\n",
        "Os melhores valores de acurácia obtidos foram da Árvore de Decisão e do Random Forest, sendo que a diferença no valor da acurácia entre os modelos foi pequena. Deste modo, utilizar a Árvore de Decisão é mais viável, haja vista que por ser um modelo mais simples, há maior rapidez em rodar o modelo e há ocupação de menor espaço da memória do computador."
      ],
      "metadata": {
        "id": "MgtTAeKuCVZ4"
      }
    },
    {
      "cell_type": "code",
      "source": [],
      "metadata": {
        "id": "6V6Mx9D3JCjL"
      },
      "execution_count": null,
      "outputs": []
    }
  ]
}